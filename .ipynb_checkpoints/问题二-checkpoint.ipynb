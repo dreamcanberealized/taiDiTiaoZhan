{
 "cells": [
  {
   "cell_type": "code",
   "execution_count": null,
   "id": "e8ffd65c",
   "metadata": {},
   "outputs": [],
   "source": [
    "import pandas as pd\n",
    "import numpy as np\n",
    "from datetime import datetime, timedelta\n",
    "from sklearn.ensemble import RandomForestRegressor\n",
    "from sklearn.metrics import mean_squared_error\n",
    "# 加载训练数据\n",
    "#数据预处理\n",
    "order_train = pd.read_csv('data/order_train2.csv')\n",
    "# 将订单数据中的日期从字符串类型转换为日期类型\n",
    "order_train['order_date'] = pd.to_datetime(order_train['order_date'])\n",
    "order_train = order_train[(order_train['order_date'].dt.year == 2018) & (order_train['order_date'].dt.month >=7)]order_train['year'] = order_train['order_date'].dt.year\n",
    "order_train['month'] = order_train['order_date'].dt.month\n",
    "order_train['day'] = order_train['order_date'].dt.day\n",
    "order_train['weekday'] = order_train['order_date'].dt.weekday\n",
    "order_train['week'] = order_train['order_date'].dt.isocalendar().week.astype('int64')\n",
    "order_train[\"season\"] = ((order_train[\"order_date\"].dt.month-1)//3+1)\n",
    "\n",
    "order_train = order_train[order_train['ord_qty'] < order_train['ord_qty'].quantile(0.99)]  # 清除需求量极大异常值\n",
    "order_train['sales_chan_name'] = order_train['sales_chan_name'].replace({'online': 0, 'offline': 1})\n",
    "\n",
    "predict_df = pd.read_csv('data/predict_sku1.csv')\n"
   ]
  },
  {
   "cell_type": "code",
   "execution_count": null,
   "id": "4970b4d8",
   "metadata": {},
   "outputs": [],
   "source": [
    "code_columns=['sales_region_code', 'sales_chan_name', 'first_cate_code', 'second_cate_code']\n",
    "for cc in code_columns:\n",
    "    order_train[cc] = order_train[cc].astype('category')\n",
    "order_train = pd.get_dummies(order_train, columns=code_columns, drop_first=True)\n",
    "\n",
    "order_train['month_sin'] = np.sin((order_train['month'] - 1) * (2.0 * np.pi / 12))\n",
    "order_train['month_cos'] = np.cos((order_train['month'] - 1) * (2.0 * np.pi / 12))\n",
    "order_train['season_sin'] = np.sin((order_train['season'] - 1) * (2.0 * np.pi / 4))\n",
    "order_train['season_cos'] = np.cos((order_train['season'] - 1) * (2.0 * np.pi / 4))\n",
    "selected_features = order_train.columns.drop(['order_date', 'ord_qty'])\n",
    "print(selected_features)\n"
   ]
  },
  {
   "cell_type": "markdown",
   "id": "2c7ca6bc",
   "metadata": {},
   "source": [
    "这里使用了支持向量回归（SVR）模型进行回归预测，选取了8个特征，并将订单需求量作为标签进行训练和预测。在训练集和测试集中，我们将所有数据按照8:2的比例进行划分，其中80%用于训练，20%用于测试。建立模型时，我们指定了径向基核函数（rbf）、惩罚系数（C=10）和容错限制参数（epsilon=0.1"
   ]
  },
  {
   "cell_type": "code",
   "execution_count": 2,
   "id": "4a19b4b9",
   "metadata": {},
   "outputs": [],
   "source": [
    "# 使用SVR进行回归预测\n",
    "from sklearn.svm import SVR\n",
    "from sklearn.model_selection import train_test_split\n",
    "from sklearn.metrics import mean_squared_error\n",
    "\n",
    "\n",
    "# 将数据划分为训练集和测试集\n",
    "X_train, X_test, y_train, y_test = train_test_split(order_train[selected_features], order_train['ord_qty'], test_size=0.2, random_state=42)\n"
   ]
  },
  {
   "cell_type": "code",
   "execution_count": null,
   "id": "855800a5",
   "metadata": {},
   "outputs": [],
   "source": [
    "\n",
    "# 构建模型并进行训练\n",
    "model = SVR(kernel='rbf', C=10, epsilon=0.1)\n",
    "model.fit(X_train, y_train)\n",
    "\n"
   ]
  },
  {
   "cell_type": "code",
   "execution_count": null,
   "id": "041fcee9",
   "metadata": {},
   "outputs": [],
   "source": [
    "y_pred = model.predict(X_test)\n",
    "mse = mean_squared_error(y_test, y_pred)\n",
    "mae = mean_absolute_error(y_test, y_pred)\n",
    "rmse = np.sqrt(mse)\n",
    "r2 = r2_score(y_test, y_pred)\n",
    "print('MSE:', mse)\n",
    "print('MAE:', mae)\n",
    "print('RMSE: %.3f'%rmse)\n",
    "print('R2:', r2)"
   ]
  },
  {
   "cell_type": "markdown",
   "id": "5607f1e5",
   "metadata": {},
   "source": [
    "建模步骤\n",
    "建模步骤可以分为数据探索、特征工程、建立模型、模型评价和预测等步骤。\n",
    "\n",
    "a) 数据探索：对历史数据进行探索性分析，以了解数据的特性、数据分布、缺失值、异常值等问题。\n",
    "\n",
    "b) 特征工程：在数据探索的基础上，进行数据清洗和特征选择，生成新的特征，提高模型的泛化能力和预测精度。\n",
    "\n",
    "c) 建立模型：根据数据特征和问题的性质，选择合适的模型，并使用训练数据集进行模型训练。\n",
    "\n",
    "d) 模型评价：使用测试数据集对模型进行评估，根据评价指标，如MSE、MAE、RMSE、R2等，比较不同模型的优劣。\n",
    "\n",
    "e) 预测：基于训练好的模型，对新的产品进行预测，并生成预测结果。\n",
    "\n",
    "以上是基本的建模步骤，具体操作需要根据实际情况进行调整。\n",
    "\n",
    "总之，在选择预测模型时，需要根据数据特征和问题的性质，选择合适的模型，并进行合适的特征工程和参数优化。同时，在预测过程中，需要对预测结果进行评估，在评估过程中合理选择评价指标，以反映模型的预测能力和误差程度。"
   ]
  },
  {
   "cell_type": "markdown",
   "id": "1c4830c3",
   "metadata": {},
   "source": [
    "为了预测未来3个月的月需求量，可以考虑使用以下几种模型：\n",
    "\n",
    "时间序列模型：这是一种专门用于预测时间序列数据的统计模型，可以根据过去的数据来预测未来的需求量。其中，ARIMA 模型是一种经典的时间序列模型，可以自动建模并预测未来的数据。\n",
    "\n",
    "机器学习模型：可以考虑使用支持向量回归（SVR），随机森林回归（Random Forest Regression）或神经网络模型等机器学习模型来预测未来需求量。这些模型可以在已有数据中学习模式，然后预测未来的需求量。\n",
    "\n",
    "基于模糊数学的方法：模糊数学是一种能够处理模糊语言和不确定性问题的数学工具，可以用来预测未来需求量。其中，模糊时间序列模型 (FTSM) 可以将模糊语言与时间序列模型相结合，用于预测未来的需求量。\n",
    "\n",
    "贝叶斯模型：贝叶斯模型是一种基于概率论的模型，可以考虑使用贝叶斯线性回归、贝叶斯网络等模型来预测未来的需求量。\n",
    "\n",
    "在选择模型时，需要根据数据的特点、模型的复杂度、计算效率等因素加以考虑，并根据实际情况进行合适的选择。"
   ]
  },
  {
   "cell_type": "code",
   "execution_count": null,
   "id": "f38923cf",
   "metadata": {},
   "outputs": [],
   "source": [
    "import pandas as pd\n",
    "import numpy as np\n",
    "from datetime import datetime, timedelta\n",
    "from dateutil.relativedelta import relativedelta\n",
    "import matplotlib.pyplot as plt\n",
    "plt.rcParams[\"font.sans-serif\"]=[\"SimHei\"] #设置字体\n",
    "plt.rcParams[\"axes.unicode_minus\"]=False #该语句解决图像中的“-”负号的乱码问题\n",
    "\n",
    "# 加载训练数据\n",
    "#数据预处理\n",
    "order_train = pd.read_csv('data/order_train2.csv')\n",
    "\n",
    "# 将订单数据中的日期从字符串类型转换为日期类型\n",
    "order_train['order_date'] = pd.to_datetime(order_train['order_date'])\n",
    "order_train['year'] = order_train['order_date'].dt.year\n",
    "order_train['month'] = order_train['order_date'].dt.month\n",
    "order_train['day'] = order_train['order_date'].dt.day\n",
    "order_train['weekday'] = order_train['order_date'].dt.weekday\n",
    "\n",
    "\n",
    "order_train = order_train[order_train['ord_qty'] < order_train['ord_qty'].quantile(0.99)]  # 清除需求量极大异常值\n",
    "order_train['sales_chan_name'] = order_train['sales_chan_name'].replace({'online': 0, 'offline': 1})\n",
    "\n",
    "#进行热编码\n",
    "# order_train['first_cate_code'] = order_train['first_cate_code'].astype('category').cat.codes\n",
    "# order_train['second_cate_code'] = order_train['second_cate_code'].astype('category').cat.codes\n",
    "# order_train['sales_region_code'] = order_train['sales_region_code'].astype('category').cat.codes\n",
    "# order_train['item_code'] = order_train['item_code'].astype('category').cat.codes\n",
    "\n",
    "print(order_train)\n",
    "\n",
    "predict_df = pd.read_csv('data/predict_sku1.csv')\n",
    "print('查看是否有重复值')\n",
    "print(predict_df.duplicated().sum()) #发现没有重复值\n",
    "print(predict_df.describe())\n",
    "print(predict_df.info())\n",
    "\n",
    "#（predict_sku1.csv）提供了产品的销售区域编码、产品编码、产品品类和产品细品类\n",
    "predict_df = pd.read_csv('data/predict_sku1.csv')"
   ]
  },
  {
   "cell_type": "code",
   "execution_count": null,
   "id": "9f97f28d",
   "metadata": {},
   "outputs": [],
   "source": [
    "#先选择ARIMA模型的建立和预测 \n",
    "\n",
    "#检测时间序列的平稳性平稳性是建立ARIMA模型的前提，\n",
    "#如果时间序列是非平稳的，需要对其进行差分或对数化处理。我们采用Augmented Dickey-Fuller(ADF)检验方法来检测时间序列是否平稳。\n",
    "\n",
    "from statsmodels.tsa.stattools import adfuller\n",
    "\n",
    "# ADF检验\n",
    "def test_stationarity(timeseries):\n",
    "    # 滑动平均和标准差\n",
    "    rolmean = timeseries.rolling(window=12).mean()\n",
    "    rolstd = timeseries.rolling(window=12).std()\n",
    "    \n",
    "    # 绘制滑动均值和标准差\n",
    "    orig = plt.plot(timeseries, color='blue', label='Original')\n",
    "    mean = plt.plot(rolmean, color='red', label='Rolling Mean')\n",
    "    std = plt.plot(rolstd, color='black', label='Rolling Std')\n",
    "    plt.legend(loc='best')\n",
    "    plt.title('滚动平均值和标准偏差')\n",
    "    plt.xticks(rotation = 30)\n",
    "    plt.show()\n",
    "\n",
    "    # ADF检验\n",
    "    print('增强Dickey Fuller测试结果:')\n",
    "    dftest = adfuller(timeseries, autolag='AIC')\n",
    "    dfoutput = pd.Series(dftest[0:4], index=['Test Statistic', 'p-value', '#Lags Used', 'Number of Observations Used'])\n",
    "    for key, value in dftest[4].items():\n",
    "        dfoutput['Critical Value (%s)' % key] = value\n",
    "    print(dfoutput)\n",
    "\n",
    "\n",
    "selected_features = ['order_date']\n",
    "# 检测销售量序列的平稳性\n",
    "sales = order_train.groupby(selected_features)['ord_qty'].sum()\n",
    "\n",
    "test_stationarity(sales)\n",
    "\n",
    "#根据ADF检验的结果，检验统计量的p值小于0.05，同时检验统计量小于1%的临界值，因此我们可以认为销售量序列是平稳的，不需要进行差分或对数化处理。"
   ]
  },
  {
   "cell_type": "markdown",
   "id": "d0ce6f14",
   "metadata": {},
   "source": [
    "ARIMA模型中，参数p、d、q的选择是非常重要的，其取值应该根据样本数据的自相关性和偏自相关性图进行选择。我们可以使用Python中的autocorrelation_plot()和plot_pacf()函数来绘制自相关图和偏自相关图。"
   ]
  },
  {
   "cell_type": "code",
   "execution_count": 7,
   "id": "117708f5",
   "metadata": {},
   "outputs": [
    {
     "data": {
      "image/png": "[encoded data removed]",
      "text/plain": [
       "<Figure size 640x480 with 2 Axes>"
      ]
     },
     "metadata": {},
     "output_type": "display_data"
    }
   ],
   "source": [
    "from statsmodels.graphics.tsaplots import plot_acf\n",
    "from statsmodels.graphics.tsaplots import plot_pacf\n",
    "\n",
    "# 绘制自相关图和偏自相关图\n",
    "plt.figure()\n",
    "plt.subplot(211)\n",
    "plot_acf(sales, ax=plt.gca(), lags=30)\n",
    "plt.subplot(212)\n",
    "plot_pacf(sales, ax=plt.gca(), lags=30)\n",
    "plt.show()"
   ]
  },
  {
   "cell_type": "code",
   "execution_count": null,
   "id": "a0a74889",
   "metadata": {},
   "outputs": [],
   "source": [
    "from sklearn.model_selection import train_test_split\n",
    "from sklearn.metrics import mean_squared_error\n",
    "\n",
    "selected_features = ['sales_region_code','item_code','first_cate_code','second_cate_code','year','month','day','weekday']\n",
    "\n",
    "# 将数据划分为训练集和测试集\n",
    "X_train, X_test, y_train, y_test = train_test_split(order_train[selected_features], order_train['ord_qty'], test_size=0.2, random_state=42)"
   ]
  },
  {
   "cell_type": "markdown",
   "id": "46a34bf0",
   "metadata": {},
   "source": [
    "销售量序列呈现出很强的自相关性，但偏自相关性不明显，因此我们可以初步采用AR模型进行建模和预测，即ARIMA(p,1,0)模型。此外，我们可以通过对比不同模型的AIC值来选择最优的ARIMA模型。\n",
    "可以看出是AR(7)\n",
    "看第二个图形\n",
    "有7个超过蓝色水平界限数量"
   ]
  },
  {
   "cell_type": "code",
   "execution_count": 20,
   "id": "e6ac7711",
   "metadata": {},
   "outputs": [
    {
     "name": "stdout",
     "output_type": "stream",
     "text": [
      "                               SARIMAX Results                                \n",
      "==============================================================================\n",
      "Dep. Variable:                ord_qty   No. Observations:                 1172\n",
      "Model:                 ARIMA(7, 1, 0)   Log Likelihood              -13006.997\n",
      "Date:                Sun, 23 Apr 2023   AIC                          26029.994\n",
      "Time:                        15:26:28   BIC                          26070.519\n",
      "Sample:                             0   HQIC                         26045.278\n",
      "                               - 1172                                         \n",
      "Covariance Type:                  opg                                         \n",
      "==============================================================================\n",
      "                 coef    std err          z      P>|z|      [0.025      0.975]\n",
      "------------------------------------------------------------------------------\n",
      "ar.L1         -0.4258      0.016    -26.048      0.000      -0.458      -0.394\n",
      "ar.L2         -0.3135      0.022    -14.297      0.000      -0.356      -0.271\n",
      "ar.L3         -0.2552      0.027     -9.311      0.000      -0.309      -0.201\n",
      "ar.L4         -0.2317      0.030     -7.649      0.000      -0.291      -0.172\n",
      "ar.L5         -0.2179      0.031     -7.140      0.000      -0.278      -0.158\n",
      "ar.L6         -0.1227      0.036     -3.443      0.001      -0.193      -0.053\n",
      "ar.L7         -0.0795      0.031     -2.546      0.011      -0.141      -0.018\n",
      "sigma2       2.61e+08   6.16e-11   4.24e+18      0.000    2.61e+08    2.61e+08\n",
      "===================================================================================\n",
      "Ljung-Box (L1) (Q):                   0.01   Jarque-Bera (JB):              1312.67\n",
      "Prob(Q):                              0.92   Prob(JB):                         0.00\n",
      "Heteroskedasticity (H):               1.54   Skew:                            -0.43\n",
      "Prob(H) (two-sided):                  0.00   Kurtosis:                         8.11\n",
      "===================================================================================\n",
      "\n",
      "Warnings:\n",
      "[1] Covariance matrix calculated using the outer product of gradients (complex-step).\n",
      "[2] Covariance matrix is singular or near-singular, with condition number    inf. Standard errors may be unstable.\n"
     ]
    },
    {
     "name": "stderr",
     "output_type": "stream",
     "text": [
      "D:\\program file\\py3\\py3.88\\lib\\site-packages\\statsmodels\\tsa\\base\\tsa_model.py:471: ValueWarning: A date index has been provided, but it has no associated frequency information and so will be ignored when e.g. forecasting.\n",
      "  self._init_dates(dates, freq)\n",
      "D:\\program file\\py3\\py3.88\\lib\\site-packages\\statsmodels\\tsa\\base\\tsa_model.py:471: ValueWarning: A date index has been provided, but it has no associated frequency information and so will be ignored when e.g. forecasting.\n",
      "  self._init_dates(dates, freq)\n",
      "D:\\program file\\py3\\py3.88\\lib\\site-packages\\statsmodels\\tsa\\base\\tsa_model.py:471: ValueWarning: A date index has been provided, but it has no associated frequency information and so will be ignored when e.g. forecasting.\n",
      "  self._init_dates(dates, freq)\n"
     ]
    }
   ],
   "source": [
    "import statsmodels.api as sm\n",
    "# 拟合ARIMA模型\n",
    "model = sm.tsa.arima.ARIMA(sales, order=(7,1,0))\n",
    "model.fit(X_train, y_train)\n",
    "\n",
    "y_pred = model.predict(X_test)\n",
    "mse = mean_squared_error(y_test, y_pred)\n",
    "mae = mean_absolute_error(y_test, y_pred)\n",
    "rmse = np.sqrt(mse)\n",
    "r2 = r2_score(y_test, y_pred)\n",
    "print('MSE:', mse)\n",
    "print('MAE:', mae)\n",
    "print('RMSE: %.3f'%rmse)\n",
    "print('R2:', r2)\n"
   ]
  }
 ],
 "metadata": {
  "kernelspec": {
   "display_name": "Python 3 (ipykernel)",
   "language": "python",
   "name": "python3"
  },
  "language_info": {
   "codemirror_mode": {
    "name": "ipython",
    "version": 3
   },
   "file_extension": ".py",
   "mimetype": "text/x-python",
   "name": "python",
   "nbconvert_exporter": "python",
   "pygments_lexer": "ipython3",
   "version": "3.8.8"
  }
 },
 "nbformat": 4,
 "nbformat_minor": 5
}
